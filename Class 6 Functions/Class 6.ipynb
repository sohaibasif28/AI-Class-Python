{
 "cells": [
  {
   "cell_type": "markdown",
   "metadata": {},
   "source": [
    "# Functions/Methods/Routines"
   ]
  },
  {
   "cell_type": "code",
   "execution_count": 1,
   "metadata": {},
   "outputs": [],
   "source": [
    "def func_name():\n",
    "    print('Welcome')"
   ]
  },
  {
   "cell_type": "code",
   "execution_count": 2,
   "metadata": {},
   "outputs": [
    {
     "name": "stdout",
     "output_type": "stream",
     "text": [
      "Welcome\n"
     ]
    }
   ],
   "source": [
    "func_name()"
   ]
  },
  {
   "cell_type": "code",
   "execution_count": 5,
   "metadata": {},
   "outputs": [
    {
     "data": {
      "text/plain": [
       "3996001"
      ]
     },
     "execution_count": 5,
     "metadata": {},
     "output_type": "execute_result"
    }
   ],
   "source": [
    "def square(n):\n",
    "    return n**2\n",
    "square(1999)"
   ]
  },
  {
   "cell_type": "code",
   "execution_count": 12,
   "metadata": {},
   "outputs": [],
   "source": [
    "def sum_of_input():\n",
    "    a = int(input(\"Enter first value : \"))\n",
    "    b = int(input(\"Enter second value : \"))\n",
    "    sum = a+b\n",
    "    print(sum)\n"
   ]
  },
  {
   "cell_type": "code",
   "execution_count": 13,
   "metadata": {},
   "outputs": [
    {
     "name": "stdout",
     "output_type": "stream",
     "text": [
      "Enter first value : 3\n",
      "Enter second value : 8\n",
      "11\n"
     ]
    }
   ],
   "source": [
    "sum_of_input()"
   ]
  },
  {
   "cell_type": "code",
   "execution_count": 38,
   "metadata": {},
   "outputs": [],
   "source": [
    "b = []\n",
    "def maxnum():\n",
    "    for x in range(0,5):\n",
    "        a = int(input(\"Enter the number : \"))\n",
    "        b.append(a)\n",
    "    print(b)\n",
    "    print('The maximum number is :'+str(max(b)))"
   ]
  },
  {
   "cell_type": "code",
   "execution_count": 39,
   "metadata": {},
   "outputs": [
    {
     "name": "stdout",
     "output_type": "stream",
     "text": [
      "Enter the number : 84\n",
      "Enter the number : 4\n",
      "Enter the number : 48\n",
      "Enter the number : 9\n",
      "Enter the number : 4\n",
      "[84, 4, 48, 9, 4]\n",
      "The maximum number is :84\n"
     ]
    }
   ],
   "source": [
    "maxnum()"
   ]
  },
  {
   "cell_type": "code",
   "execution_count": 44,
   "metadata": {},
   "outputs": [],
   "source": [
    "def findMaxno():\n",
    "    ans = input(\"Enter nos. (comma setp)\").split(\",\")\n",
    "    return max([int(x) for x in ans])"
   ]
  },
  {
   "cell_type": "code",
   "execution_count": 45,
   "metadata": {},
   "outputs": [
    {
     "name": "stdout",
     "output_type": "stream",
     "text": [
      "Enter nos. (comma setp)2,6,7,23,8\n"
     ]
    },
    {
     "data": {
      "text/plain": [
       "23"
      ]
     },
     "execution_count": 45,
     "metadata": {},
     "output_type": "execute_result"
    }
   ],
   "source": [
    "findMaxno()"
   ]
  },
  {
   "cell_type": "code",
   "execution_count": 46,
   "metadata": {},
   "outputs": [],
   "source": [
    "def evenodd():\n",
    "    a = int(input(\"Enter the number : \"))\n",
    "    if a%2 == 0:\n",
    "        print(\"Number is even\")\n",
    "    else:\n",
    "        print(\"Number is odd\")"
   ]
  },
  {
   "cell_type": "code",
   "execution_count": 47,
   "metadata": {},
   "outputs": [
    {
     "name": "stdout",
     "output_type": "stream",
     "text": [
      "Enter the number : 8\n",
      "Number is even\n"
     ]
    }
   ],
   "source": [
    "evenodd()"
   ]
  },
  {
   "cell_type": "code",
   "execution_count": null,
   "metadata": {},
   "outputs": [],
   "source": [
    "myValue = 99\n",
    "def checking():\n",
    "    a = int(input(\"Enter your value to check : \"))\n",
    "    if a == myValue:\n",
    "        print(\"Value is equal\")\n",
    "    elif a > myValue:\n",
    "        print(\"Value is large\")\n",
    "    else:\n",
    "        print(\"Value is small\")"
   ]
  },
  {
   "cell_type": "code",
   "execution_count": null,
   "metadata": {},
   "outputs": [],
   "source": [
    "checking()"
   ]
  },
  {
   "cell_type": "code",
   "execution_count": 101,
   "metadata": {},
   "outputs": [],
   "source": [
    "def examValidation():\n",
    "    a = input(\"Is your fee is paid: \")\n",
    "    b = input(\"Is your admit card is issued: \")\n",
    "    if a and b:\n",
    "        print(\"You can go to exam hall\")\n",
    "    else:\n",
    "        print(\"You cannot go to exam hall\")"
   ]
  },
  {
   "cell_type": "code",
   "execution_count": 102,
   "metadata": {},
   "outputs": [
    {
     "name": "stdout",
     "output_type": "stream",
     "text": [
      "Is your fee is paid: true\n",
      "Is your admit card is issued: false\n",
      "You can go to exam hall\n"
     ]
    }
   ],
   "source": [
    "examValidation()"
   ]
  },
  {
   "cell_type": "code",
   "execution_count": null,
   "metadata": {},
   "outputs": [],
   "source": []
  }
 ],
 "metadata": {
  "kernelspec": {
   "display_name": "Python 3",
   "language": "python",
   "name": "python3"
  },
  "language_info": {
   "codemirror_mode": {
    "name": "ipython",
    "version": 3
   },
   "file_extension": ".py",
   "mimetype": "text/x-python",
   "name": "python",
   "nbconvert_exporter": "python",
   "pygments_lexer": "ipython3",
   "version": "3.8.5"
  }
 },
 "nbformat": 4,
 "nbformat_minor": 4
}
