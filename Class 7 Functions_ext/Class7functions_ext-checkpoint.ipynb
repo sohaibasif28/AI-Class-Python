{
 "cells": [
  {
   "cell_type": "code",
   "execution_count": 4,
   "metadata": {},
   "outputs": [],
   "source": [
    "def fullname():\n",
    "    fname = input(\"Entyer first name: \")\n",
    "    lname = input(\"Enter last name: \")\n",
    "    \n",
    "    fullname = f\"{fname}{lname}\"\n",
    "    \n",
    "    return fullname"
   ]
  },
  {
   "cell_type": "code",
   "execution_count": 6,
   "metadata": {},
   "outputs": [
    {
     "name": "stdout",
     "output_type": "stream",
     "text": [
      "Entyer first name: a\n",
      "Enter last name: f\n"
     ]
    }
   ],
   "source": [
    "my = fullname()"
   ]
  },
  {
   "cell_type": "code",
   "execution_count": 7,
   "metadata": {},
   "outputs": [
    {
     "data": {
      "text/plain": [
       "'af'"
      ]
     },
     "execution_count": 7,
     "metadata": {},
     "output_type": "execute_result"
    }
   ],
   "source": [
    "my"
   ]
  },
  {
   "cell_type": "code",
   "execution_count": 25,
   "metadata": {},
   "outputs": [
    {
     "name": "stdout",
     "output_type": "stream",
     "text": [
      "result is==> 10\n"
     ]
    }
   ],
   "source": [
    "def sumNum(n1=6,n2=4):\n",
    "    sum1 = n1+n2\n",
    "    return sum1\n",
    "print(\"result is==>\",str(sumNum()))"
   ]
  },
  {
   "cell_type": "code",
   "execution_count": 44,
   "metadata": {},
   "outputs": [
    {
     "name": "stdout",
     "output_type": "stream",
     "text": [
      "What is your salary? 600000\n"
     ]
    }
   ],
   "source": [
    "def salaryy():\n",
    "    a = int(input(\"What is your salary? \"))\n",
    "    return a\n",
    "mysal = salaryy()\n",
    "mysal\n",
    "def salcalc(mysal,tax):\n",
    "    deductions = mysal * (tax/100)\n",
    "    \n",
    "    netsalary = mysal - deductions\n",
    "    \n",
    "    return netsalary"
   ]
  },
  {
   "cell_type": "code",
   "execution_count": 45,
   "metadata": {},
   "outputs": [],
   "source": [
    "gross_sal = salcalc(mysal,15)"
   ]
  },
  {
   "cell_type": "code",
   "execution_count": 46,
   "metadata": {},
   "outputs": [
    {
     "data": {
      "text/plain": [
       "510000.0"
      ]
     },
     "execution_count": 46,
     "metadata": {},
     "output_type": "execute_result"
    }
   ],
   "source": [
    "gross_sal"
   ]
  },
  {
   "cell_type": "code",
   "execution_count": 50,
   "metadata": {},
   "outputs": [
    {
     "name": "stdout",
     "output_type": "stream",
     "text": [
      "What is your salary? 900000\n"
     ]
    }
   ],
   "source": [
    "def salaryy():\n",
    "    a = int(input(\"What is your salary? \"))\n",
    "    return a\n",
    "\n",
    "\n"
   ]
  },
  {
   "cell_type": "code",
   "execution_count": 51,
   "metadata": {},
   "outputs": [
    {
     "name": "stdout",
     "output_type": "stream",
     "text": [
      "What is your salary? 70000\n",
      "Tax is 10%\n"
     ]
    }
   ],
   "source": [
    "def salcalc(mysal=salaryy()):\n",
    "    if mysal >= 10000:\n",
    "        print(\"Tax is 10%\")\n",
    "    elif mysal >= 5000:\n",
    "        print(\"Tax is 5%\")\n",
    "    else:\n",
    "        print(\"No tax\")\n",
    "salcalc()"
   ]
  },
  {
   "cell_type": "code",
   "execution_count": null,
   "metadata": {},
   "outputs": [],
   "source": []
  }
 ],
 "metadata": {
  "kernelspec": {
   "display_name": "Python 3",
   "language": "python",
   "name": "python3"
  },
  "language_info": {
   "codemirror_mode": {
    "name": "ipython",
    "version": 3
   },
   "file_extension": ".py",
   "mimetype": "text/x-python",
   "name": "python",
   "nbconvert_exporter": "python",
   "pygments_lexer": "ipython3",
   "version": "3.8.5"
  }
 },
 "nbformat": 4,
 "nbformat_minor": 4
}
